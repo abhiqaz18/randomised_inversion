{
 "cells": [
  {
   "cell_type": "markdown",
   "id": "f3a235f2",
   "metadata": {},
   "source": [
    "# Imports"
   ]
  },
  {
   "cell_type": "code",
   "execution_count": 1,
   "id": "d572d749",
   "metadata": {},
   "outputs": [],
   "source": [
    "import matplotlib.pyplot as plt\n",
    "import numpy as np\n",
    "import scipy\n",
    "std_norm = scipy.stats.norm(0,1)\n",
    "\n",
    "import time"
   ]
  },
  {
   "cell_type": "code",
   "execution_count": 2,
   "id": "004f201e",
   "metadata": {},
   "outputs": [],
   "source": [
    "import sys, os\n",
    "\n",
    "parent_dir = os.path.abspath(os.path.join(os.getcwd(), \"..\"))\n",
    "\n",
    "if parent_dir not in sys.path:\n",
    "    sys.path.append(parent_dir)\n",
    "\n",
    "from main.matrix_inverters import Gower_Richtarik_2016_1 as algo1\n",
    "from main.matrix_inverters import Gower_Richtarik_2016_4 as algo4"
   ]
  },
  {
   "cell_type": "markdown",
   "id": "dfeb8a38",
   "metadata": {},
   "source": [
    "# Define matrices"
   ]
  },
  {
   "cell_type": "code",
   "execution_count": null,
   "id": "ac9a4826",
   "metadata": {},
   "outputs": [],
   "source": []
  },
  {
   "cell_type": "markdown",
   "id": "83941843",
   "metadata": {},
   "source": [
    "# Inversion"
   ]
  },
  {
   "cell_type": "code",
   "execution_count": 8,
   "id": "f5aee130",
   "metadata": {},
   "outputs": [
    {
     "name": "stdout",
     "output_type": "stream",
     "text": [
      "100 3000\n"
     ]
    }
   ],
   "source": [
    "Ns = (np.linspace(1, 30, 30) * 100).astype(int)\n",
    "print(Ns.min(), Ns.max())"
   ]
  },
  {
   "cell_type": "code",
   "execution_count": 9,
   "id": "2b18f208",
   "metadata": {},
   "outputs": [
    {
     "ename": "KeyboardInterrupt",
     "evalue": "",
     "output_type": "error",
     "traceback": [
      "\u001b[0;31m---------------------------------------------------------------------------\u001b[0m",
      "\u001b[0;31mKeyboardInterrupt\u001b[0m                         Traceback (most recent call last)",
      "Cell \u001b[0;32mIn[9], line 8\u001b[0m\n\u001b[1;32m      6\u001b[0m     A \u001b[38;5;241m=\u001b[39m np\u001b[38;5;241m.\u001b[39mmatrix(std_norm\u001b[38;5;241m.\u001b[39mrvs((n, n)))\n\u001b[1;32m      7\u001b[0m     start \u001b[38;5;241m=\u001b[39m time\u001b[38;5;241m.\u001b[39mtime()\n\u001b[0;32m----> 8\u001b[0m     _ \u001b[38;5;241m=\u001b[39m \u001b[43mnp\u001b[49m\u001b[38;5;241;43m.\u001b[39;49m\u001b[43mlinalg\u001b[49m\u001b[38;5;241;43m.\u001b[39;49m\u001b[43minv\u001b[49m\u001b[43m(\u001b[49m\u001b[43mA\u001b[49m\u001b[43m)\u001b[49m\n\u001b[1;32m      9\u001b[0m     total \u001b[38;5;241m+\u001b[39m\u001b[38;5;241m=\u001b[39m time\u001b[38;5;241m.\u001b[39mtime() \u001b[38;5;241m-\u001b[39m start\n\u001b[1;32m     10\u001b[0m np_times\u001b[38;5;241m.\u001b[39mappend(total \u001b[38;5;241m/\u001b[39m \u001b[38;5;241m10\u001b[39m)\n",
      "File \u001b[0;32m~/projects/randomised_inversion/.venv/lib/python3.10/site-packages/numpy/linalg/_linalg.py:609\u001b[0m, in \u001b[0;36minv\u001b[0;34m(a)\u001b[0m\n\u001b[1;32m    606\u001b[0m signature \u001b[38;5;241m=\u001b[39m \u001b[38;5;124m'\u001b[39m\u001b[38;5;124mD->D\u001b[39m\u001b[38;5;124m'\u001b[39m \u001b[38;5;28;01mif\u001b[39;00m isComplexType(t) \u001b[38;5;28;01melse\u001b[39;00m \u001b[38;5;124m'\u001b[39m\u001b[38;5;124md->d\u001b[39m\u001b[38;5;124m'\u001b[39m\n\u001b[1;32m    607\u001b[0m \u001b[38;5;28;01mwith\u001b[39;00m errstate(call\u001b[38;5;241m=\u001b[39m_raise_linalgerror_singular, invalid\u001b[38;5;241m=\u001b[39m\u001b[38;5;124m'\u001b[39m\u001b[38;5;124mcall\u001b[39m\u001b[38;5;124m'\u001b[39m,\n\u001b[1;32m    608\u001b[0m               over\u001b[38;5;241m=\u001b[39m\u001b[38;5;124m'\u001b[39m\u001b[38;5;124mignore\u001b[39m\u001b[38;5;124m'\u001b[39m, divide\u001b[38;5;241m=\u001b[39m\u001b[38;5;124m'\u001b[39m\u001b[38;5;124mignore\u001b[39m\u001b[38;5;124m'\u001b[39m, under\u001b[38;5;241m=\u001b[39m\u001b[38;5;124m'\u001b[39m\u001b[38;5;124mignore\u001b[39m\u001b[38;5;124m'\u001b[39m):\n\u001b[0;32m--> 609\u001b[0m     ainv \u001b[38;5;241m=\u001b[39m \u001b[43m_umath_linalg\u001b[49m\u001b[38;5;241;43m.\u001b[39;49m\u001b[43minv\u001b[49m\u001b[43m(\u001b[49m\u001b[43ma\u001b[49m\u001b[43m,\u001b[49m\u001b[43m \u001b[49m\u001b[43msignature\u001b[49m\u001b[38;5;241;43m=\u001b[39;49m\u001b[43msignature\u001b[49m\u001b[43m)\u001b[49m\n\u001b[1;32m    610\u001b[0m \u001b[38;5;28;01mreturn\u001b[39;00m wrap(ainv\u001b[38;5;241m.\u001b[39mastype(result_t, copy\u001b[38;5;241m=\u001b[39m\u001b[38;5;28;01mFalse\u001b[39;00m))\n",
      "\u001b[0;31mKeyboardInterrupt\u001b[0m: "
     ]
    }
   ],
   "source": [
    "np_times = []\n",
    "\n",
    "for n in Ns:\n",
    "    total = 0\n",
    "    for _ in range(10):\n",
    "        A = np.matrix(std_norm.rvs((n, n)))\n",
    "        start = time.time()\n",
    "        _ = np.linalg.inv(A)\n",
    "        total += time.time() - start\n",
    "    np_times.append(total / 10)"
   ]
  },
  {
   "cell_type": "code",
   "execution_count": null,
   "id": "32c2ecf6",
   "metadata": {},
   "outputs": [],
   "source": [
    "sp_times = []\n",
    "\n",
    "for n in Ns:\n",
    "    total = 0\n",
    "    for _ in range(10):\n",
    "        A = np.matrix(std_norm.rvs((n, n)))\n",
    "        start = time.time()\n",
    "        _ = scipy.linalg.inv(A)\n",
    "        total += time.time() - start\n",
    "    sp_times.append(total / 10)"
   ]
  },
  {
   "cell_type": "markdown",
   "id": "98e2620f",
   "metadata": {},
   "source": [
    "## Plot"
   ]
  },
  {
   "cell_type": "code",
   "execution_count": null,
   "id": "403e6750",
   "metadata": {},
   "outputs": [
    {
     "data": {
      "image/png": "[encoded data removed]",
      "text/plain": [
       "<Figure size 640x480 with 1 Axes>"
      ]
     },
     "metadata": {},
     "output_type": "display_data"
    }
   ],
   "source": [
    "plt.plot(Ns ** 2, np_times, label='numpy')\n",
    "plt.plot(Ns ** 2, sp_times, label='scipy')\n",
    "plt.xlabel('n^2')\n",
    "plt.ylabel('time(s)')\n",
    "plt.legend()\n",
    "plt.show()"
   ]
  },
  {
   "cell_type": "markdown",
   "id": "41c35828",
   "metadata": {},
   "source": [
    "# PSD Inversion"
   ]
  },
  {
   "cell_type": "code",
   "execution_count": null,
   "id": "bcfc063e",
   "metadata": {},
   "outputs": [],
   "source": [
    "S = np.matrix(std_norm.rvs((4000, 4000)))\n",
    "S = S.T * S\n",
    "I = np.matrix(np.eye(S.shape[0]))"
   ]
  },
  {
   "cell_type": "code",
   "execution_count": null,
   "id": "7ce0434f",
   "metadata": {},
   "outputs": [
    {
     "name": "stdout",
     "output_type": "stream",
     "text": [
      "677 ms ± 22.6 ms per loop (mean ± std. dev. of 7 runs, 1 loop each)\n"
     ]
    }
   ],
   "source": [
    "%%timeit\n",
    "scipy.linalg.inv(S)"
   ]
  },
  {
   "cell_type": "code",
   "execution_count": null,
   "id": "a1dcce44",
   "metadata": {},
   "outputs": [
    {
     "name": "stdout",
     "output_type": "stream",
     "text": [
      "1.06 s ± 26.7 ms per loop (mean ± std. dev. of 7 runs, 1 loop each)\n"
     ]
    }
   ],
   "source": [
    "%%timeit\n",
    "scipy.linalg.cho_solve((scipy.linalg.cholesky(S, True), True), np.matrix(np.eye(4000)))"
   ]
  },
  {
   "cell_type": "markdown",
   "id": "344ce96d",
   "metadata": {},
   "source": [
    "It seems to hold that direct inversion gets faster than cholesky as the matrix gets larger."
   ]
  },
  {
   "cell_type": "code",
   "execution_count": 3,
   "id": "9219dcae",
   "metadata": {},
   "outputs": [
    {
     "name": "stdout",
     "output_type": "stream",
     "text": [
      "10 300\n"
     ]
    }
   ],
   "source": [
    "Ns = (np.linspace(1, 30, 30) * 10).astype(int)\n",
    "print(Ns.min(), Ns.max())"
   ]
  },
  {
   "cell_type": "code",
   "execution_count": 4,
   "id": "3f3d1a26",
   "metadata": {},
   "outputs": [],
   "source": [
    "sp_times = []\n",
    "\n",
    "for n in Ns:\n",
    "    total = 0\n",
    "    for _ in range(10):\n",
    "        A = std_norm.rvs((n, n))\n",
    "        A = np.matrix(A.T @ A)\n",
    "        start = time.time()\n",
    "        _ = scipy.linalg.inv(A)\n",
    "        total += time.time() - start\n",
    "    sp_times.append(total / 10)"
   ]
  },
  {
   "cell_type": "code",
   "execution_count": null,
   "id": "1121ac1d",
   "metadata": {},
   "outputs": [],
   "source": [
    "algo4_times = []\n",
    "\n",
    "for n in Ns:\n",
    "    total = 0\n",
    "    for _ in range(10):\n",
    "        A = std_norm.rvs((n, n))\n",
    "        A = np.matrix(A.T @ A)\n",
    "        start = time.time()\n",
    "        _ = algo4(A)\n",
    "        total += time.time() - start\n",
    "    algo4_times.append(total / 10)"
   ]
  }
 ],
 "metadata": {
  "kernelspec": {
   "display_name": ".venv",
   "language": "python",
   "name": "python3"
  },
  "language_info": {
   "codemirror_mode": {
    "name": "ipython",
    "version": 3
   },
   "file_extension": ".py",
   "mimetype": "text/x-python",
   "name": "python",
   "nbconvert_exporter": "python",
   "pygments_lexer": "ipython3",
   "version": "3.10.5"
  }
 },
 "nbformat": 4,
 "nbformat_minor": 5
}
